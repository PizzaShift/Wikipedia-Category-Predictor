{
 "cells": [
  {
   "cell_type": "markdown",
   "metadata": {},
   "source": [
    "# Exploratory Data A"
   ]
  },
  {
   "cell_type": "code",
   "execution_count": 1,
   "metadata": {
    "collapsed": false
   },
   "outputs": [],
   "source": [
    "import os\n",
    "import numpy as np\n",
    "import pandas as pd\n",
    "\n",
    "import cPickle as pkl\n",
    "\n",
    "from nltk.stem.wordnet import WordNetLemmatizer\n",
    "from nltk.tokenize import word_tokenize\n",
    "\n",
    "from sklearn.feature_extraction.text import CountVectorizer\n",
    "from sklearn.feature_extraction.text import TfidfTransformer\n",
    "\n",
    "from sklearn.metrics.pairwise import cosine_similarity"
   ]
  },
  {
   "cell_type": "markdown",
   "metadata": {},
   "source": [
    "## Load data"
   ]
  },
  {
   "cell_type": "code",
   "execution_count": 2,
   "metadata": {
    "collapsed": false
   },
   "outputs": [
    {
     "name": "stdout",
     "output_type": "stream",
     "text": [
      "Reading Machine_learning_algorithms.pkl     94 articles\n",
      "Reading Organs_(anatomy).pkl     420 articles\n",
      "Reading Congenital_disorders.pkl     636 articles\n",
      "Reading Medical_devices.pkl     182 articles\n",
      "Reading Infectious_diseases.pkl     1067 articles\n",
      "Reading Rare_diseases.pkl     907 articles\n",
      "Reading Cancer.pkl     816 articles\n"
     ]
    }
   ],
   "source": [
    "os.chdir('data/')\n",
    "\n",
    "data = []\n",
    "for filename in os.listdir(os.getcwd()):\n",
    "    if filename[-4:] == '.pkl':\n",
    "        print 'Reading', filename, \n",
    "        with open(filename) as f:\n",
    "            currentData = pkl.load(f)\n",
    "        print \"   \", len(currentData), \"articles\"\n",
    "        data += currentData\n",
    "        \n",
    "os.chdir('../')"
   ]
  },
  {
   "cell_type": "code",
   "execution_count": 3,
   "metadata": {
    "collapsed": true
   },
   "outputs": [],
   "source": [
    "article_text = []\n",
    "other_numbers = []  # to store image, equation, link, and citation counts\n",
    "target = []\n",
    "\n",
    "for item in data:\n",
    "    article_text.append(item[0])\n",
    "    other_numbers.append([item[1], item[2], item[3], item[4], item[5]])\n",
    "    target.append(item[5])"
   ]
  },
  {
   "cell_type": "code",
   "execution_count": 6,
   "metadata": {
    "collapsed": false
   },
   "outputs": [
    {
     "data": {
      "text/plain": [
       "list"
      ]
     },
     "execution_count": 6,
     "metadata": {},
     "output_type": "execute_result"
    }
   ],
   "source": [
    "type(other_numbers[100:])"
   ]
  },
  {
   "cell_type": "code",
   "execution_count": 7,
   "metadata": {
    "collapsed": false
   },
   "outputs": [
    {
     "data": {
      "text/plain": [
       "[8, 0, 328, 79, 'Cancer']"
      ]
     },
     "execution_count": 7,
     "metadata": {},
     "output_type": "execute_result"
    }
   ],
   "source": [
    "other_numbers[100:][-1]"
   ]
  },
  {
   "cell_type": "code",
   "execution_count": 8,
   "metadata": {
    "collapsed": false
   },
   "outputs": [],
   "source": [
    "df = pd.DataFrame(other_numbers)\n",
    "df.columns = [\"num_non_math_images\", 'num_of_math_eqns', 'num_links', 'num_citations', 'category']"
   ]
  },
  {
   "cell_type": "code",
   "execution_count": 9,
   "metadata": {
    "collapsed": false
   },
   "outputs": [
    {
     "data": {
      "text/html": [
       "<div>\n",
       "<table border=\"1\" class=\"dataframe\">\n",
       "  <thead>\n",
       "    <tr style=\"text-align: right;\">\n",
       "      <th></th>\n",
       "      <th>num_non_math_images</th>\n",
       "      <th>num_of_math_eqns</th>\n",
       "      <th>num_links</th>\n",
       "      <th>num_citations</th>\n",
       "    </tr>\n",
       "    <tr>\n",
       "      <th>category</th>\n",
       "      <th></th>\n",
       "      <th></th>\n",
       "      <th></th>\n",
       "      <th></th>\n",
       "    </tr>\n",
       "  </thead>\n",
       "  <tbody>\n",
       "    <tr>\n",
       "      <th>Cancer</th>\n",
       "      <td>9.249772</td>\n",
       "      <td>0.249910</td>\n",
       "      <td>328.478893</td>\n",
       "      <td>36.114544</td>\n",
       "    </tr>\n",
       "    <tr>\n",
       "      <th>Congenital_disorders</th>\n",
       "      <td>6.725081</td>\n",
       "      <td>0.000000</td>\n",
       "      <td>342.912867</td>\n",
       "      <td>29.105413</td>\n",
       "    </tr>\n",
       "    <tr>\n",
       "      <th>Infectious_diseases</th>\n",
       "      <td>10.604451</td>\n",
       "      <td>0.000000</td>\n",
       "      <td>292.786935</td>\n",
       "      <td>44.013714</td>\n",
       "    </tr>\n",
       "    <tr>\n",
       "      <th>Machine_learning_algorithms</th>\n",
       "      <td>3.017849</td>\n",
       "      <td>38.624621</td>\n",
       "      <td>88.327641</td>\n",
       "      <td>10.994539</td>\n",
       "    </tr>\n",
       "    <tr>\n",
       "      <th>Medical_devices</th>\n",
       "      <td>6.975442</td>\n",
       "      <td>1.132688</td>\n",
       "      <td>190.325188</td>\n",
       "      <td>25.065854</td>\n",
       "    </tr>\n",
       "    <tr>\n",
       "      <th>Organs_(anatomy)</th>\n",
       "      <td>13.806107</td>\n",
       "      <td>0.084313</td>\n",
       "      <td>321.661958</td>\n",
       "      <td>34.892504</td>\n",
       "    </tr>\n",
       "    <tr>\n",
       "      <th>Rare_diseases</th>\n",
       "      <td>2.432773</td>\n",
       "      <td>0.066409</td>\n",
       "      <td>209.100502</td>\n",
       "      <td>29.104963</td>\n",
       "    </tr>\n",
       "  </tbody>\n",
       "</table>\n",
       "</div>"
      ],
      "text/plain": [
       "                             num_non_math_images  num_of_math_eqns  \\\n",
       "category                                                             \n",
       "Cancer                                  9.249772          0.249910   \n",
       "Congenital_disorders                    6.725081          0.000000   \n",
       "Infectious_diseases                    10.604451          0.000000   \n",
       "Machine_learning_algorithms             3.017849         38.624621   \n",
       "Medical_devices                         6.975442          1.132688   \n",
       "Organs_(anatomy)                       13.806107          0.084313   \n",
       "Rare_diseases                           2.432773          0.066409   \n",
       "\n",
       "                              num_links  num_citations  \n",
       "category                                                \n",
       "Cancer                       328.478893      36.114544  \n",
       "Congenital_disorders         342.912867      29.105413  \n",
       "Infectious_diseases          292.786935      44.013714  \n",
       "Machine_learning_algorithms   88.327641      10.994539  \n",
       "Medical_devices              190.325188      25.065854  \n",
       "Organs_(anatomy)             321.661958      34.892504  \n",
       "Rare_diseases                209.100502      29.104963  "
      ]
     },
     "execution_count": 9,
     "metadata": {},
     "output_type": "execute_result"
    }
   ],
   "source": [
    "df.groupby(['category']).std()"
   ]
  },
  {
   "cell_type": "code",
   "execution_count": 10,
   "metadata": {
    "collapsed": false
   },
   "outputs": [
    {
     "name": "stdout",
     "output_type": "stream",
     "text": [
      "['Cancer', 'Congenital_disorders', 'Infectious_diseases', 'Machine_learning_algorithms', 'Medical_devices', 'Organs_(anatomy)', 'Rare_diseases']\n"
     ]
    }
   ],
   "source": [
    "categories = set(df['category'])\n",
    "categories = sorted(categories)\n",
    "print categories"
   ]
  },
  {
   "cell_type": "code",
   "execution_count": 31,
   "metadata": {
    "collapsed": false
   },
   "outputs": [
    {
     "name": "stdout",
     "output_type": "stream",
     "text": [
      "Cancer | 6.5, 5.0, 9.2 | 0.0, 0.0, 0.2 | 207.9, 87.0, 328.5 | 19.6, 7.0, 36.1 \n",
      "Congenital_disorders | 5.7, 4.0, 6.7 | 0.0, 0.0, 0.0 | 219.1, 139.5, 342.9 | 15.0, 6.0, 29.1 \n",
      "Infectious_diseases | 6.4, 5.0, 10.6 | 0.0, 0.0, 0.0 | 266.6, 185.0, 292.8 | 23.1, 7.0, 44.0 \n",
      "Machine_learning_algorithms | 5.0, 4.0, 3.0 | 18.3, 0.0, 38.6 | 86.4, 54.0, 88.3 | 7.0, 3.0, 11.0 \n",
      "Medical_devices | 10.2, 6.5, 7.0 | 0.1, 0.0, 1.1 | 202.9, 177.0, 190.3 | 16.9, 7.0, 25.1 \n",
      "Organs_(anatomy) | 8.6, 6.0, 13.8 | 0.0, 0.0, 0.1 | 239.4, 149.0, 321.7 | 21.2, 7.0, 34.9 \n",
      "Rare_diseases | 5.0, 4.0, 2.4 | 0.0, 0.0, 0.1 | 251.6, 199.0, 209.1 | 18.4, 9.0, 29.1 \n"
     ]
    }
   ],
   "source": [
    "means = df.groupby(['category']).mean().values\n",
    "medians = df.groupby(['category']).median().values\n",
    "stdevs = df.groupby(['category']).std().values\n",
    "\n",
    "for i in xrange(len(means)):\n",
    "    print categories[i],\n",
    "    for j in xrange(4):\n",
    "        print \"| %.1f, %.1f, %.1f\" % (means[i][j], medians[i][j], stdevs[i][j]), \n",
    "    print ''"
   ]
  },
  {
   "cell_type": "code",
   "execution_count": 36,
   "metadata": {
    "collapsed": false
   },
   "outputs": [
    {
     "name": "stdout",
     "output_type": "stream",
     "text": [
      "[   6.34764677    0.42600679  234.64653081   19.29767103]\n",
      "[   5.     0.   151.5    7. ]\n",
      "[   8.81518872    6.42100434  290.83519041   35.22531131]\n"
     ]
    }
   ],
   "source": [
    "print df.mean().values\n",
    "print df.median().values\n",
    "print df.std().values"
   ]
  },
  {
   "cell_type": "code",
   "execution_count": 13,
   "metadata": {
    "collapsed": false
   },
   "outputs": [
    {
     "name": "stdout",
     "output_type": "stream",
     "text": [
      "Cancer |       6.50 |       0.01 |     207.94 |      19.60 | \n",
      "Congenital_disorders |       5.66 |       0.00 |     219.13 |      14.97 | \n",
      "Infectious_diseases |       6.41 |       0.00 |     266.55 |      23.13 | \n",
      "Machine_learning_algorithms |       5.01 |      18.34 |      86.41 |       7.04 | \n",
      "Medical_devices |      10.20 |       0.10 |     202.86 |      16.92 | \n",
      "Organs_(anatomy) |       8.57 |       0.01 |     239.41 |      21.16 | \n",
      "Rare_diseases |       4.95 |       0.00 |     251.55 |      18.44 | \n"
     ]
    }
   ],
   "source": [
    "\n",
    "for i, item in enumerate(means):\n",
    "    print categories[i], \"|\", \n",
    "    for num in item:\n",
    "        print \"%10.2f\" %num, \"|\", \n",
    "    print ''"
   ]
  },
  {
   "cell_type": "code",
   "execution_count": 14,
   "metadata": {
    "collapsed": false
   },
   "outputs": [
    {
     "name": "stdout",
     "output_type": "stream",
     "text": [
      "Cancer |       9.25 |       0.25 |     328.48 |      36.11 | \n",
      "Congenital_disorders |       6.73 |       0.00 |     342.91 |      29.11 | \n",
      "Infectious_diseases |      10.60 |       0.00 |     292.79 |      44.01 | \n",
      "Machine_learning_algorithms |       3.02 |      38.62 |      88.33 |      10.99 | \n",
      "Medical_devices |       6.98 |       1.13 |     190.33 |      25.07 | \n",
      "Organs_(anatomy) |      13.81 |       0.08 |     321.66 |      34.89 | \n",
      "Rare_diseases |       2.43 |       0.07 |     209.10 |      29.10 | \n"
     ]
    }
   ],
   "source": [
    "\n",
    "for i, item in enumerate(stdevs):\n",
    "    print categories[i], \"|\", \n",
    "    for num in item:\n",
    "        print \"%10.2f\" %num, \"|\", \n",
    "    print ''"
   ]
  },
  {
   "cell_type": "markdown",
   "metadata": {},
   "source": [
    "### Split data into train and test and iterate over different values of tf-idf dimensions"
   ]
  },
  {
   "cell_type": "code",
   "execution_count": 9,
   "metadata": {
    "collapsed": false
   },
   "outputs": [],
   "source": [
    "wordnet = WordNetLemmatizer()\n",
    "\n",
    "def my_tokenize(doc):\n",
    "    tok = word_tokenize(doc)\n",
    "    return[wordnet.lemmatize(x) for x in tok]"
   ]
  },
  {
   "cell_type": "code",
   "execution_count": 52,
   "metadata": {
    "collapsed": false
   },
   "outputs": [],
   "source": [
    "count_vect = CountVectorizer(stop_words = 'english', max_features = 700, tokenizer = my_tokenize)\n",
    "X_counts = count_vect.fit_transform(article_text)\n",
    "\n",
    "tfidf_transformer = TfidfTransformer()\n",
    "X_tfidf = tfidf_transformer.fit_transform(X_counts)"
   ]
  },
  {
   "cell_type": "code",
   "execution_count": 53,
   "metadata": {
    "collapsed": false
   },
   "outputs": [
    {
     "data": {
      "text/plain": [
       "(4122, 700)"
      ]
     },
     "execution_count": 53,
     "metadata": {},
     "output_type": "execute_result"
    }
   ],
   "source": [
    "X_tfidf.shape"
   ]
  },
  {
   "cell_type": "code",
   "execution_count": 78,
   "metadata": {
    "collapsed": true
   },
   "outputs": [],
   "source": [
    "indices = []\n",
    "category_name = []\n",
    "\n",
    "count = 0\n",
    "for i in xrange(len(other_numbers)-1):\n",
    "    count += 1\n",
    "\n",
    "    if other_numbers[i][-1] != other_numbers[i+1][-1]:\n",
    "        indices.append(count)\n",
    "        category_name.append(other_numbers[i][-1])\n",
    "indices.append(count)"
   ]
  },
  {
   "cell_type": "code",
   "execution_count": 81,
   "metadata": {
    "collapsed": false
   },
   "outputs": [
    {
     "name": "stdout",
     "output_type": "stream",
     "text": [
      "[94, 514, 1150, 1332, 2399, 3306, 4121]\n",
      "['Machine_learning_algorithms', 'Organs_(anatomy)', 'Congenital_disorders', 'Medical_devices', 'Infectious_diseases', 'Rare_diseases']\n"
     ]
    }
   ],
   "source": [
    "print indices\n",
    "print category_name"
   ]
  },
  {
   "cell_type": "code",
   "execution_count": 68,
   "metadata": {
    "collapsed": false
   },
   "outputs": [
    {
     "data": {
      "text/plain": [
       "'Machine_learning_algorithms'"
      ]
     },
     "execution_count": 68,
     "metadata": {},
     "output_type": "execute_result"
    }
   ],
   "source": [
    "other_numbers[93][-1]"
   ]
  },
  {
   "cell_type": "code",
   "execution_count": 72,
   "metadata": {
    "collapsed": false
   },
   "outputs": [],
   "source": [
    "mean_vectors = []\n",
    "start = 0\n",
    "for end in indices:\n",
    "    mean_vectors.append(np.mean((X_tfidf[start:end, :]).todense(), axis = 0))\n",
    "    start = end"
   ]
  },
  {
   "cell_type": "code",
   "execution_count": 86,
   "metadata": {
    "collapsed": false
   },
   "outputs": [],
   "source": [
    "similar_tups = []\n",
    "for i in xrange(len(mean_vectors)):\n",
    "    for j in xrange(i+1, len(mean_vectors)):\n",
    "        if j == len(mean_vectors) -1:\n",
    "            break\n",
    "        similar_tups.append((category_name[i], category_name[j], cosine_similarity(mean_vectors[i], mean_vectors[j])))"
   ]
  },
  {
   "cell_type": "code",
   "execution_count": 91,
   "metadata": {
    "collapsed": false
   },
   "outputs": [
    {
     "name": "stdout",
     "output_type": "stream",
     "text": [
      " 0.8998 | Rare_diseases | Congenital_disorders |\n",
      " 0.5518 | Rare_diseases | Infectious_diseases |\n",
      " 0.5065 | Rare_diseases | Organs_(anatomy) |\n",
      " 0.5064 | Congenital_disorders | Organs_(anatomy) |\n",
      " 0.4829 | Infectious_diseases | Congenital_disorders |\n",
      " 0.4776 | Infectious_diseases | Medical_devices |\n",
      " 0.4759 | Medical_devices | Organs_(anatomy) |\n",
      " 0.4697 | Infectious_diseases | Organs_(anatomy) |\n",
      " 0.4002 | Medical_devices | Congenital_disorders |\n",
      " 0.3953 | Rare_diseases | Medical_devices |\n",
      " 0.2265 | Medical_devices | Machine_learning_algorithms |\n",
      " 0.2082 | Organs_(anatomy) | Machine_learning_algorithms |\n",
      " 0.1969 | Rare_diseases | Machine_learning_algorithms |\n",
      " 0.1925 | Congenital_disorders | Machine_learning_algorithms |\n",
      " 0.1767 | Infectious_diseases | Machine_learning_algorithms |\n"
     ]
    }
   ],
   "source": [
    "similar_tups = sorted(similar_tups, key = lambda x: x[2], reverse = True)\n",
    "for tup in similar_tups:\n",
    "    print \" %0.4f | %s | %s |\" %(tup[2], tup[1], tup[0] )"
   ]
  },
  {
   "cell_type": "code",
   "execution_count": null,
   "metadata": {
    "collapsed": true
   },
   "outputs": [],
   "source": []
  }
 ],
 "metadata": {
  "kernelspec": {
   "display_name": "Python 2",
   "language": "python",
   "name": "python2"
  },
  "language_info": {
   "codemirror_mode": {
    "name": "ipython",
    "version": 2
   },
   "file_extension": ".py",
   "mimetype": "text/x-python",
   "name": "python",
   "nbconvert_exporter": "python",
   "pygments_lexer": "ipython2",
   "version": "2.7.10"
  }
 },
 "nbformat": 4,
 "nbformat_minor": 0
}
