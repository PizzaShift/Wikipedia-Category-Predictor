{
 "cells": [
  {
   "cell_type": "markdown",
   "metadata": {},
   "source": [
    "# Modeling"
   ]
  },
  {
   "cell_type": "code",
   "execution_count": 19,
   "metadata": {
    "collapsed": true
   },
   "outputs": [],
   "source": [
    "import os\n",
    "import numpy as np\n",
    "import cPickle as pkl\n",
    "\n",
    "from nltk.stem.wordnet import WordNetLemmatizer\n",
    "from nltk.tokenize import word_tokenize\n",
    "\n",
    "from sklearn.feature_extraction.text import CountVectorizer\n",
    "from sklearn.feature_extraction.text import TfidfTransformer\n",
    "\n",
    "from sklearn.cross_validation import train_test_split\n",
    "from sklearn.cross_validation import cross_val_score\n",
    "from sklearn.metrics import f1_score\n",
    "\n",
    "from sklearn.linear_model import LogisticRegression\n",
    "from sklearn.naive_bayes import MultinomialNB\n",
    "from sklearn.linear_model import SGDClassifier\n",
    "from sklearn.ensemble import RandomForestClassifier\n",
    "\n",
    "from sklearn.pipeline import Pipeline\n",
    "from sklearn.externals import joblib"
   ]
  },
  {
   "cell_type": "markdown",
   "metadata": {},
   "source": [
    "## Load data"
   ]
  },
  {
   "cell_type": "code",
   "execution_count": 34,
   "metadata": {
    "collapsed": false
   },
   "outputs": [
    {
     "name": "stdout",
     "output_type": "stream",
     "text": [
      "Reading Machine_learning_algorithms.pkl     94 articles\n",
      "Reading Organs_(anatomy).pkl     420 articles\n",
      "Reading Congenital_disorders.pkl     636 articles\n",
      "Reading Medical_devices.pkl     182 articles\n",
      "Reading Infectious_diseases.pkl     1067 articles\n",
      "Reading Rare_diseases.pkl     907 articles\n",
      "Reading Cancer.pkl     816 articles\n"
     ]
    }
   ],
   "source": [
    "os.chdir('data/')\n",
    "\n",
    "data = []\n",
    "for filename in os.listdir(os.getcwd()):\n",
    "    if filename[-4:] == '.pkl':\n",
    "        print 'Reading', filename, \n",
    "        with open(filename) as f:\n",
    "            currentData = pkl.load(f)\n",
    "        print \"   \", len(currentData), \"articles\"\n",
    "        data += currentData\n",
    "        \n",
    "os.chdir('../')"
   ]
  },
  {
   "cell_type": "code",
   "execution_count": 5,
   "metadata": {
    "collapsed": false
   },
   "outputs": [
    {
     "data": {
      "text/plain": [
       "4122"
      ]
     },
     "execution_count": 5,
     "metadata": {},
     "output_type": "execute_result"
    }
   ],
   "source": [
    "len(data)"
   ]
  },
  {
   "cell_type": "code",
   "execution_count": 7,
   "metadata": {
    "collapsed": true
   },
   "outputs": [],
   "source": [
    "article_text = []\n",
    "other_numbers = []\n",
    "target = []\n",
    "\n",
    "for item in data:\n",
    "    article_text.append(item[0])\n",
    "    other_numbers.append([item[1], item[2], item[3], item[4]])\n",
    "    target.append(item[5])"
   ]
  },
  {
   "cell_type": "code",
   "execution_count": 8,
   "metadata": {
    "collapsed": false
   },
   "outputs": [],
   "source": [
    "other_numbers = np.array(other_numbers)"
   ]
  },
  {
   "cell_type": "markdown",
   "metadata": {},
   "source": [
    "### Split data into train and test and iterate over different values of tf-idf dimensions"
   ]
  },
  {
   "cell_type": "code",
   "execution_count": 9,
   "metadata": {
    "collapsed": false
   },
   "outputs": [],
   "source": [
    "wordnet = WordNetLemmatizer()\n",
    "\n",
    "def my_tokenize(doc):\n",
    "    tok = word_tokenize(doc)\n",
    "    return[wordnet.lemmatize(x) for x in tok]"
   ]
  },
  {
   "cell_type": "code",
   "execution_count": 10,
   "metadata": {
    "collapsed": false
   },
   "outputs": [
    {
     "name": "stdout",
     "output_type": "stream",
     "text": [
      " 100 0.68186\n",
      " 300 0.74927\n",
      " 500 0.76077\n",
      " 700 0.76550\n",
      " 900 0.76751\n",
      "1100 0.77505\n"
     ]
    }
   ],
   "source": [
    "X_train, X_test, y_train, y_test = train_test_split(article_text, target)\n",
    "\n",
    "max_features_list = [100, 300, 500, 700, 900, 1100] \n",
    "\n",
    "for maxFeatures in max_features_list:\n",
    "    \n",
    "    count_vect = CountVectorizer(stop_words = 'english', max_features = maxFeatures, tokenizer = my_tokenize)\n",
    "    X_train_counts = count_vect.fit_transform(X_train)\n",
    "\n",
    "    tfidf_transformer = TfidfTransformer()\n",
    "    X_train_tfidf = tfidf_transformer.fit_transform(X_train_counts)\n",
    "\n",
    "    clf = MultinomialNB()\n",
    "    print \"%4d %0.5f\" %(maxFeatures, sum(cross_val_score(clf, X_train_tfidf, y_train, cv = 5, scoring='f1_weighted'))/5.0)"
   ]
  },
  {
   "cell_type": "markdown",
   "metadata": {},
   "source": [
    "## Select dimensionality of tf-idf and prepare train and test data"
   ]
  },
  {
   "cell_type": "code",
   "execution_count": 11,
   "metadata": {
    "collapsed": true
   },
   "outputs": [],
   "source": [
    "count_vect = CountVectorizer(stop_words = 'english', max_features = 900, tokenizer = my_tokenize)\n",
    "X_train_counts = count_vect.fit_transform(X_train)\n",
    "\n",
    "tfidf_transformer = TfidfTransformer()\n",
    "X_train_tfidf = tfidf_transformer.fit_transform(X_train_counts)\n",
    "\n",
    "\n",
    "X_test_counts = count_vect.transform(X_test)\n",
    "X_test_tfidf = tfidf_transformer.transform(X_test_counts)"
   ]
  },
  {
   "cell_type": "markdown",
   "metadata": {},
   "source": [
    "#### helper function for model-testing"
   ]
  },
  {
   "cell_type": "code",
   "execution_count": 25,
   "metadata": {
    "collapsed": false
   },
   "outputs": [],
   "source": [
    "def evaluate_model(model, X, y, Xt, yt):\n",
    "    model.fit(X, y)\n",
    "    yp = model.predict(Xt)\n",
    "    \n",
    "    print \"accuracy =\", sum(yp == yt)/float(len(yp))\n",
    "    print \"f1-score =\", f1_score(yt, yp, average='weighted')"
   ]
  },
  {
   "cell_type": "markdown",
   "metadata": {},
   "source": [
    "## Naive Bayes"
   ]
  },
  {
   "cell_type": "code",
   "execution_count": 26,
   "metadata": {
    "collapsed": false
   },
   "outputs": [
    {
     "name": "stdout",
     "output_type": "stream",
     "text": [
      "accuracy = 0.767216294859\n",
      "f1-score = 0.765239546272\n"
     ]
    }
   ],
   "source": [
    "clf = MultinomialNB()\n",
    "evaluate_model(clf, X_train_tfidf, y_train, X_test_tfidf, y_test )"
   ]
  },
  {
   "cell_type": "markdown",
   "metadata": {},
   "source": [
    "## Logistic Regression"
   ]
  },
  {
   "cell_type": "code",
   "execution_count": 27,
   "metadata": {
    "collapsed": false
   },
   "outputs": [
    {
     "name": "stdout",
     "output_type": "stream",
     "text": [
      "c accuracy f1-score:\n",
      "0.0  0.7030  0.6735\n",
      "0.1  0.7939  0.7881\n",
      "0.1  0.7975  0.7935\n",
      "0.5  0.8062  0.8038\n",
      "1.0  0.8114  0.8094\n",
      "1.5  0.8098  0.8080\n",
      "2.0  0.8098  0.8081\n",
      "2.5  0.8114  0.8100\n",
      "3.0  0.8095  0.8081\n",
      "3.5  0.8075  0.8062\n"
     ]
    }
   ],
   "source": [
    "clist = [0.01, 0.05, 0.1, 0.5, 1, 1.5, 2, 2.5, 3, 3.5]\n",
    "#clist = [1.6, 1.7, 1.8, 1.9]\n",
    "print \"c accuracy f1-score:\"\n",
    "for c in clist:\n",
    "    logistic_model = LogisticRegression(C=c, class_weight=\"balanced\")\n",
    "    print \"%3.1f  %0.4f  %0.4f\" % (c, \n",
    "                sum(cross_val_score(logistic_model, X_train_tfidf, y_train, cv = 5, scoring='accuracy'))/5.0,\n",
    "                sum(cross_val_score(logistic_model, X_train_tfidf, y_train, cv = 5, scoring='f1_weighted'))/5.0)"
   ]
  },
  {
   "cell_type": "code",
   "execution_count": 41,
   "metadata": {
    "collapsed": false
   },
   "outputs": [
    {
     "name": "stdout",
     "output_type": "stream",
     "text": [
      "accuracy = 0.795344325897\n",
      "f1-score = 0.793007087785\n"
     ]
    }
   ],
   "source": [
    "logistic_model = LogisticRegression(C=1, class_weight=\"balanced\")\n",
    "evaluate_model(logistic_model, X_train_tfidf, y_train, X_test_tfidf, y_test)"
   ]
  },
  {
   "cell_type": "markdown",
   "metadata": {},
   "source": [
    "## SVM  (SGDClassifier - linear kernel)"
   ]
  },
  {
   "cell_type": "code",
   "execution_count": 30,
   "metadata": {
    "collapsed": false
   },
   "outputs": [
    {
     "name": "stdout",
     "output_type": "stream",
     "text": [
      "0.00001   0.73277\n",
      "0.00010   0.78389\n",
      "0.00100   0.80784\n",
      "0.01000   0.77741\n"
     ]
    }
   ],
   "source": [
    "k = 5\n",
    "alpha_list = [0.00001, 0.0001, 0.001, 0.01]\n",
    "for alpha in alpha_list:\n",
    "    svm_model = SGDClassifier(loss='hinge', penalty='l2', alpha=alpha, n_iter=1000)\n",
    "    print \"%0.5f   %0.5f\" % (alpha, \n",
    "                    sum(cross_val_score(svm_model, X_train_tfidf, y_train, cv = k, scoring='accuracy'))/float(k))"
   ]
  },
  {
   "cell_type": "code",
   "execution_count": 42,
   "metadata": {
    "collapsed": false
   },
   "outputs": [
    {
     "name": "stdout",
     "output_type": "stream",
     "text": [
      "accuracy = 0.797284190107\n",
      "f1-score = 0.793807859701\n"
     ]
    }
   ],
   "source": [
    "svm_model = SGDClassifier(loss='hinge', penalty='l2', alpha=0.001, n_iter=1000, class_weight='balanced')\n",
    "evaluate_model(svm_model, X_train_tfidf, y_train, X_test_tfidf, y_test)"
   ]
  },
  {
   "cell_type": "markdown",
   "metadata": {},
   "source": [
    "## Random Forest"
   ]
  },
  {
   "cell_type": "code",
   "execution_count": 39,
   "metadata": {
    "collapsed": false
   },
   "outputs": [
    {
     "data": {
      "text/plain": [
       "RandomForestClassifier(bootstrap=True, class_weight=None, criterion='gini',\n",
       "            max_depth=None, max_features='auto', max_leaf_nodes=None,\n",
       "            min_samples_leaf=1, min_samples_split=2,\n",
       "            min_weight_fraction_leaf=0.0, n_estimators=700, n_jobs=1,\n",
       "            oob_score=True, random_state=None, verbose=0, warm_start=False)"
      ]
     },
     "execution_count": 39,
     "metadata": {},
     "output_type": "execute_result"
    }
   ],
   "source": [
    "rand_forest = RandomForestClassifier(n_estimators=700, oob_score=True)\n",
    "rand_forest.fit(X_train_tfidf.todense(), y_train)"
   ]
  },
  {
   "cell_type": "code",
   "execution_count": 40,
   "metadata": {
    "collapsed": false
   },
   "outputs": [
    {
     "name": "stdout",
     "output_type": "stream",
     "text": [
      "accuracy = 0.786614936954\n",
      "f1-score = 0.784123334384\n"
     ]
    }
   ],
   "source": [
    "evaluate_model(rand_forest, X_train_tfidf.todense(), y_train, X_test_tfidf.todense(), y_test)"
   ]
  },
  {
   "cell_type": "markdown",
   "metadata": {},
   "source": [
    "## Pipeline"
   ]
  },
  {
   "cell_type": "code",
   "execution_count": 52,
   "metadata": {
    "collapsed": true
   },
   "outputs": [],
   "source": [
    "model = Pipeline([('vect', CountVectorizer(stop_words = 'english', max_features = 900, tokenizer = my_tokenize)),\n",
    "                  ('tfidf', TfidfTransformer()),\n",
    "                  ('clf', LogisticRegression(C=1, fit_intercept=True, intercept_scaling=1, class_weight= \"auto\",\\\n",
    "                                              solver='liblinear', max_iter=1000)) ])"
   ]
  },
  {
   "cell_type": "code",
   "execution_count": 45,
   "metadata": {
    "collapsed": false
   },
   "outputs": [
    {
     "data": {
      "text/plain": [
       "'/home/koroviev/enliticWikipedia/wikiEnlitic'"
      ]
     },
     "execution_count": 45,
     "metadata": {},
     "output_type": "execute_result"
    }
   ],
   "source": [
    "os.getcwd()"
   ]
  },
  {
   "cell_type": "markdown",
   "metadata": {
    "collapsed": true
   },
   "source": [
    "## Save Model"
   ]
  },
  {
   "cell_type": "code",
   "execution_count": 48,
   "metadata": {
    "collapsed": false
   },
   "outputs": [
    {
     "data": {
      "text/plain": [
       "['pickledModel/logistic_model.pkl',\n",
       " 'pickledModel/logistic_model.pkl_01.npy',\n",
       " 'pickledModel/logistic_model.pkl_02.npy',\n",
       " 'pickledModel/logistic_model.pkl_03.npy',\n",
       " 'pickledModel/logistic_model.pkl_04.npy']"
      ]
     },
     "execution_count": 48,
     "metadata": {},
     "output_type": "execute_result"
    }
   ],
   "source": [
    "joblib.dump(logistic_model, 'pickledModel/logistic_model.pkl')"
   ]
  },
  {
   "cell_type": "code",
   "execution_count": 47,
   "metadata": {
    "collapsed": false
   },
   "outputs": [
    {
     "data": {
      "text/plain": [
       "['pickledModel/count_vect.pkl']"
      ]
     },
     "execution_count": 47,
     "metadata": {},
     "output_type": "execute_result"
    }
   ],
   "source": [
    "joblib.dump(count_vect, 'pickledModel/count_vect.pkl')"
   ]
  },
  {
   "cell_type": "code",
   "execution_count": 46,
   "metadata": {
    "collapsed": false
   },
   "outputs": [
    {
     "data": {
      "text/plain": [
       "['pickledModel/tfidf_tranformer.pkl',\n",
       " 'pickledModel/tfidf_tranformer.pkl_01.npy',\n",
       " 'pickledModel/tfidf_tranformer.pkl_02.npy']"
      ]
     },
     "execution_count": 46,
     "metadata": {},
     "output_type": "execute_result"
    }
   ],
   "source": [
    "joblib.dump(tfidf_transformer, \"pickledModel/tfidf_tranformer.pkl\")"
   ]
  }
 ],
 "metadata": {
  "kernelspec": {
   "display_name": "Python 2",
   "language": "python",
   "name": "python2"
  },
  "language_info": {
   "codemirror_mode": {
    "name": "ipython",
    "version": 2
   },
   "file_extension": ".py",
   "mimetype": "text/x-python",
   "name": "python",
   "nbconvert_exporter": "python",
   "pygments_lexer": "ipython2",
   "version": "2.7.10"
  }
 },
 "nbformat": 4,
 "nbformat_minor": 0
}
