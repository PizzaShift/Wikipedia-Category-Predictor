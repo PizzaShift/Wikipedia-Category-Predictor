{
 "cells": [
  {
   "cell_type": "markdown",
   "metadata": {},
   "source": [
    "# Modeling"
   ]
  },
  {
   "cell_type": "code",
   "execution_count": 1,
   "metadata": {
    "collapsed": true
   },
   "outputs": [],
   "source": [
    "import os\n",
    "import numpy as np\n",
    "import cPickle as pkl\n",
    "\n",
    "from nltk.stem.wordnet import WordNetLemmatizer\n",
    "from nltk.tokenize import word_tokenize\n",
    "\n",
    "from sklearn.feature_extraction.text import CountVectorizer\n",
    "from sklearn.feature_extraction.text import TfidfTransformer\n",
    "\n",
    "from sklearn.cross_validation import train_test_split\n",
    "from sklearn.cross_validation import cross_val_score\n",
    "from sklearn.metrics import f1_score\n",
    "\n",
    "from sklearn.linear_model import LogisticRegression\n",
    "from sklearn.naive_bayes import MultinomialNB\n",
    "from sklearn.linear_model import SGDClassifier\n",
    "from sklearn.ensemble import RandomForestClassifier\n",
    "\n",
    "from sklearn.pipeline import Pipeline\n",
    "from sklearn.externals import joblib"
   ]
  },
  {
   "cell_type": "markdown",
   "metadata": {},
   "source": [
    "## Load data"
   ]
  },
  {
   "cell_type": "code",
   "execution_count": 2,
   "metadata": {
    "collapsed": false
   },
   "outputs": [
    {
     "name": "stdout",
     "output_type": "stream",
     "text": [
      "Reading Machine_learning_algorithms.pkl     94 articles\n",
      "Reading Organs_(anatomy).pkl     420 articles\n",
      "Reading Congenital_disorders.pkl     636 articles\n",
      "Reading Medical_devices.pkl     182 articles\n",
      "Reading Infectious_diseases.pkl     1067 articles\n",
      "Reading Rare_diseases.pkl     907 articles\n",
      "Reading Cancer.pkl     816 articles\n"
     ]
    }
   ],
   "source": [
    "os.chdir('data/')\n",
    "\n",
    "data = []\n",
    "for filename in os.listdir(os.getcwd()):\n",
    "    if filename[-4:] == '.pkl':\n",
    "        print 'Reading', filename, \n",
    "        with open(filename) as f:\n",
    "            currentData = pkl.load(f)\n",
    "        print \"   \", len(currentData), \"articles\"\n",
    "        data += currentData\n",
    "        \n",
    "os.chdir('../')"
   ]
  },
  {
   "cell_type": "code",
   "execution_count": 3,
   "metadata": {
    "collapsed": false
   },
   "outputs": [
    {
     "data": {
      "text/plain": [
       "4122"
      ]
     },
     "execution_count": 3,
     "metadata": {},
     "output_type": "execute_result"
    }
   ],
   "source": [
    "len(data)"
   ]
  },
  {
   "cell_type": "code",
   "execution_count": 4,
   "metadata": {
    "collapsed": true
   },
   "outputs": [],
   "source": [
    "article_text = []\n",
    "other_numbers = []\n",
    "target = []\n",
    "\n",
    "for item in data:\n",
    "    article_text.append(item[0])\n",
    "    other_numbers.append([item[1], item[2], item[3], item[4]])\n",
    "    target.append(item[5])"
   ]
  },
  {
   "cell_type": "code",
   "execution_count": 5,
   "metadata": {
    "collapsed": false
   },
   "outputs": [],
   "source": [
    "other_numbers = np.array(other_numbers)"
   ]
  },
  {
   "cell_type": "markdown",
   "metadata": {},
   "source": [
    "### Split data into train and test and iterate over different values of tf-idf dimensions"
   ]
  },
  {
   "cell_type": "code",
   "execution_count": 6,
   "metadata": {
    "collapsed": false
   },
   "outputs": [],
   "source": [
    "wordnet = WordNetLemmatizer()\n",
    "\n",
    "def my_tokenize(doc):\n",
    "    tok = word_tokenize(doc)\n",
    "    return[wordnet.lemmatize(x) for x in tok]"
   ]
  },
  {
   "cell_type": "code",
   "execution_count": 7,
   "metadata": {
    "collapsed": false
   },
   "outputs": [
    {
     "name": "stdout",
     "output_type": "stream",
     "text": [
      " 100 0.67529\n",
      " 300 0.74886\n",
      " 500 0.75843\n",
      " 700 0.75764\n",
      " 900 0.77011\n",
      "1100 0.76902\n"
     ]
    }
   ],
   "source": [
    "X_train, X_test, y_train, y_test = train_test_split(article_text, target)\n",
    "\n",
    "max_features_list = [100, 300, 500, 700, 900, 1100] \n",
    "\n",
    "for maxFeatures in max_features_list:\n",
    "    \n",
    "    count_vect = CountVectorizer(stop_words = 'english', max_features = maxFeatures, tokenizer = my_tokenize)\n",
    "    X_train_counts = count_vect.fit_transform(X_train)\n",
    "\n",
    "    tfidf_transformer = TfidfTransformer()\n",
    "    X_train_tfidf = tfidf_transformer.fit_transform(X_train_counts)\n",
    "\n",
    "    clf = MultinomialNB()\n",
    "    print \"%4d %0.5f\" %(maxFeatures, sum(cross_val_score(clf, X_train_tfidf, y_train, cv = 5, scoring='f1_weighted'))/5.0)"
   ]
  },
  {
   "cell_type": "markdown",
   "metadata": {},
   "source": [
    "## Select dimensionality of tf-idf and prepare train and test data"
   ]
  },
  {
   "cell_type": "code",
   "execution_count": 8,
   "metadata": {
    "collapsed": true
   },
   "outputs": [],
   "source": [
    "count_vect = CountVectorizer(stop_words = 'english', max_features = 900, tokenizer = my_tokenize)\n",
    "X_train_counts = count_vect.fit_transform(X_train)\n",
    "\n",
    "tfidf_transformer = TfidfTransformer()\n",
    "X_train_tfidf = tfidf_transformer.fit_transform(X_train_counts)\n",
    "\n",
    "\n",
    "X_test_counts = count_vect.transform(X_test)\n",
    "X_test_tfidf = tfidf_transformer.transform(X_test_counts)"
   ]
  },
  {
   "cell_type": "markdown",
   "metadata": {},
   "source": [
    "#### helper function for model-testing"
   ]
  },
  {
   "cell_type": "code",
   "execution_count": 9,
   "metadata": {
    "collapsed": false
   },
   "outputs": [],
   "source": [
    "def inspect_misclassified(yp, yt):\n",
    "    rare_disease_and_congenital_confustion = [\"Congenital_disorders\", \"Rare_diseases\"]\n",
    "    num_rare_congenital = 0\n",
    "    other_misclassified = 0\n",
    "    \n",
    "    for i in xrange(len(yt)):\n",
    "        if yt[i] != yp[i]:\n",
    "            if yt[i] in rare_disease_and_congenital_confustion and yp[i] in rare_disease_and_congenital_confustion:\n",
    "                num_rare_congenital += 1\n",
    "            else:\n",
    "                other_misclassified += 1\n",
    "      \n",
    "    print '' \n",
    "    print \"Percentage of misclassified points which mislabeled Rare_disease and Congenital_disorders =\",\\\n",
    "                    num_rare_congenital/float(num_rare_congenital+other_misclassified)*100,\"%\""
   ]
  },
  {
   "cell_type": "code",
   "execution_count": 10,
   "metadata": {
    "collapsed": false
   },
   "outputs": [],
   "source": [
    "def evaluate_model(model, X, y, Xt, yt):\n",
    "    model.fit(X, y)\n",
    "    yp = model.predict(Xt)\n",
    "    \n",
    "    print \"accuracy =\", sum(yp == yt)/float(len(yp))\n",
    "    print \"f1-score =\", f1_score(yt, yp, average='weighted')\n",
    "    \n",
    "    inspect_misclassified(yp, yt)"
   ]
  },
  {
   "cell_type": "markdown",
   "metadata": {},
   "source": [
    "## Naive Bayes"
   ]
  },
  {
   "cell_type": "code",
   "execution_count": 11,
   "metadata": {
    "collapsed": false
   },
   "outputs": [
    {
     "name": "stdout",
     "output_type": "stream",
     "text": [
      "accuracy = 0.775945683802\n",
      "f1-score = 0.772526300013\n",
      "\n",
      "Percentage of misclassified points which mislabeled Rare_disease and Congenital_disorders = 33.3333333333 %\n"
     ]
    }
   ],
   "source": [
    "clf = MultinomialNB()\n",
    "evaluate_model(clf, X_train_tfidf, y_train, X_test_tfidf, y_test )"
   ]
  },
  {
   "cell_type": "markdown",
   "metadata": {},
   "source": [
    "## Logistic Regression"
   ]
  },
  {
   "cell_type": "code",
   "execution_count": 12,
   "metadata": {
    "collapsed": false
   },
   "outputs": [
    {
     "name": "stdout",
     "output_type": "stream",
     "text": [
      "c accuracy f1-score:\n",
      "0.0  0.7043  0.6700\n",
      "0.1  0.7920  0.7858\n",
      "0.1  0.7942  0.7899\n",
      "0.5  0.8040  0.8022\n",
      "1.0  0.8062  0.8043\n",
      "1.5  0.8043  0.8024\n",
      "2.0  0.8056  0.8040\n",
      "2.5  0.8043  0.8028\n",
      "3.0  0.8056  0.8041\n",
      "3.5  0.8069  0.8055\n"
     ]
    }
   ],
   "source": [
    "clist = [0.01, 0.05, 0.1, 0.5, 1, 1.5, 2, 2.5, 3, 3.5]\n",
    "#clist = [1.6, 1.7, 1.8, 1.9]\n",
    "print \"c accuracy f1-score:\"\n",
    "for c in clist:\n",
    "    logistic_model = LogisticRegression(C=c, class_weight=\"balanced\")\n",
    "    print \"%3.1f  %0.4f  %0.4f\" % (c, \n",
    "                sum(cross_val_score(logistic_model, X_train_tfidf, y_train, cv = 5, scoring='accuracy'))/5.0,\n",
    "                sum(cross_val_score(logistic_model, X_train_tfidf, y_train, cv = 5, scoring='f1_weighted'))/5.0)"
   ]
  },
  {
   "cell_type": "code",
   "execution_count": 13,
   "metadata": {
    "collapsed": false
   },
   "outputs": [
    {
     "name": "stdout",
     "output_type": "stream",
     "text": [
      "accuracy = 0.815712900097\n",
      "f1-score = 0.813081601883\n",
      "\n",
      "Percentage of misclassified points which mislabeled Rare_disease and Congenital_disorders = 38.9473684211 %\n"
     ]
    }
   ],
   "source": [
    "logistic_model = LogisticRegression(C=1, class_weight=\"balanced\")\n",
    "evaluate_model(logistic_model, X_train_tfidf, y_train, X_test_tfidf, y_test)"
   ]
  },
  {
   "cell_type": "markdown",
   "metadata": {},
   "source": [
    "## SVM  (SGDClassifier - linear kernel)"
   ]
  },
  {
   "cell_type": "code",
   "execution_count": 14,
   "metadata": {
    "collapsed": false
   },
   "outputs": [
    {
     "name": "stdout",
     "output_type": "stream",
     "text": [
      "0.00001   0.73408\n",
      "0.00010   0.78550\n",
      "0.00100   0.80654\n",
      "0.01000   0.76903\n"
     ]
    }
   ],
   "source": [
    "k = 5\n",
    "alpha_list = [0.00001, 0.0001, 0.001, 0.01]\n",
    "for alpha in alpha_list:\n",
    "    svm_model = SGDClassifier(loss='hinge', penalty='l2', alpha=alpha, n_iter=1000)\n",
    "    print \"%0.5f   %0.5f\" % (alpha, \n",
    "                    sum(cross_val_score(svm_model, X_train_tfidf, y_train, cv = k, scoring='accuracy'))/float(k))"
   ]
  },
  {
   "cell_type": "code",
   "execution_count": 15,
   "metadata": {
    "collapsed": false
   },
   "outputs": [
    {
     "name": "stdout",
     "output_type": "stream",
     "text": [
      "accuracy = 0.811833171678\n",
      "f1-score = 0.809269228859\n",
      "\n",
      "Percentage of misclassified points which mislabeled Rare_disease and Congenital_disorders = 36.0824742268 %\n"
     ]
    }
   ],
   "source": [
    "svm_model = SGDClassifier(loss='hinge', penalty='l2', alpha=0.001, n_iter=1000, class_weight='balanced')\n",
    "evaluate_model(svm_model, X_train_tfidf, y_train, X_test_tfidf, y_test)"
   ]
  },
  {
   "cell_type": "markdown",
   "metadata": {},
   "source": [
    "## Random Forest"
   ]
  },
  {
   "cell_type": "code",
   "execution_count": 16,
   "metadata": {
    "collapsed": false
   },
   "outputs": [],
   "source": [
    "forest = RandomForestClassifier(n_estimators=700, oob_score=True)\n",
    "#rand_forest.fit(X_train_tfidf.todense(), y_train)"
   ]
  },
  {
   "cell_type": "code",
   "execution_count": 17,
   "metadata": {
    "collapsed": false
   },
   "outputs": [
    {
     "name": "stdout",
     "output_type": "stream",
     "text": [
      "accuracy = 0.770126091174\n",
      "f1-score = 0.763706044522\n",
      "\n",
      "Percentage of misclassified points which mislabeled Rare_disease and Congenital_disorders = 46.4135021097 %\n"
     ]
    }
   ],
   "source": [
    "#700\n",
    "evaluate_model(forest, X_train_tfidf, y_train, X_test_tfidf, y_test)"
   ]
  },
  {
   "cell_type": "markdown",
   "metadata": {},
   "source": [
    "## Pipeline"
   ]
  },
  {
   "cell_type": "raw",
   "metadata": {
    "collapsed": true
   },
   "source": [
    "model = Pipeline([('vect', CountVectorizer(stop_words = 'english', max_features = 900, tokenizer = my_tokenize)),\n",
    "                  ('tfidf', TfidfTransformer()),\n",
    "                  ('clf', LogisticRegression(C=1, fit_intercept=True, intercept_scaling=1, class_weight= \"auto\",\\\n",
    "                                              solver='liblinear', max_iter=1000)) ])"
   ]
  },
  {
   "cell_type": "raw",
   "metadata": {
    "collapsed": false
   },
   "source": [
    "os.getcwd()"
   ]
  },
  {
   "cell_type": "markdown",
   "metadata": {
    "collapsed": true
   },
   "source": [
    "## Save Model"
   ]
  },
  {
   "cell_type": "code",
   "execution_count": 18,
   "metadata": {
    "collapsed": false
   },
   "outputs": [],
   "source": [
    "#joblib.dump(logistic_model, 'pickledModel/logistic_model.pkl')\n",
    "#joblib.dump(count_vect, 'pickledModel/count_vect.pkl')\n",
    "#joblib.dump(tfidf_transformer, \"pickledModel/tfidf_tranformer.pkl\")"
   ]
  }
 ],
 "metadata": {
  "kernelspec": {
   "display_name": "Python 2",
   "language": "python",
   "name": "python2"
  },
  "language_info": {
   "codemirror_mode": {
    "name": "ipython",
    "version": 2
   },
   "file_extension": ".py",
   "mimetype": "text/x-python",
   "name": "python",
   "nbconvert_exporter": "python",
   "pygments_lexer": "ipython2",
   "version": "2.7.10"
  }
 },
 "nbformat": 4,
 "nbformat_minor": 0
}
